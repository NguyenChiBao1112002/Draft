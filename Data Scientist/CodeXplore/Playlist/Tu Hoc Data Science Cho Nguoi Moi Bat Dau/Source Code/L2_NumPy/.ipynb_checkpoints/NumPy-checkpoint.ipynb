{
 "cells": [
  {
   "cell_type": "code",
   "execution_count": 1,
   "id": "86453dee-608d-4953-a83a-268b156f9b9e",
   "metadata": {},
   "outputs": [],
   "source": [
    "# Recap: tóm tắt lại\n",
    "# Pandas: là một thư viện mã nguồn mở được xây dựng dựa trên NumPy\n",
    "# Pandas: để thao tác và phân tích dữ liệu"
   ]
  },
  {
   "cell_type": "code",
   "execution_count": 2,
   "id": "0a4b02c3-e212-4550-b837-c3b65cfa05c9",
   "metadata": {},
   "outputs": [],
   "source": [
    "# NumPy: thư viện toán học, tính toán nhanh chóng trên các ma trận đa chiều nhanh hơn so với Core Python\n"
   ]
  }
 ],
 "metadata": {
  "kernelspec": {
   "display_name": "Python 3 (ipykernel)",
   "language": "python",
   "name": "python3"
  },
  "language_info": {
   "codemirror_mode": {
    "name": "ipython",
    "version": 3
   },
   "file_extension": ".py",
   "mimetype": "text/x-python",
   "name": "python",
   "nbconvert_exporter": "python",
   "pygments_lexer": "ipython3",
   "version": "3.12.7"
  }
 },
 "nbformat": 4,
 "nbformat_minor": 5
}
