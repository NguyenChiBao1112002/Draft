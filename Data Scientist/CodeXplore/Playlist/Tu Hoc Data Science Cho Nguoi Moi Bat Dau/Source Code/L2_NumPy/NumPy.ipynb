{
 "cells": [
  {
   "cell_type": "code",
   "execution_count": 13,
   "id": "86453dee-608d-4953-a83a-268b156f9b9e",
   "metadata": {},
   "outputs": [],
   "source": [
    "# Recap: tóm tắt lại\n",
    "# Pandas: là một thư viện mã nguồn mở được xây dựng dựa trên NumPy\n",
    "# Pandas: để thao tác và phân tích dữ liệu"
   ]
  },
  {
   "cell_type": "code",
   "execution_count": 14,
   "id": "0a4b02c3-e212-4550-b837-c3b65cfa05c9",
   "metadata": {},
   "outputs": [],
   "source": [
    "# NumPy: thư viện toán học, tính toán nhanh chóng trên các ma trận đa chiều nhanh hơn so với Core Python"
   ]
  },
  {
   "cell_type": "code",
   "execution_count": 15,
   "id": "4fefa9e4-b766-499f-bfa2-0d4f04382783",
   "metadata": {},
   "outputs": [],
   "source": [
    "import numpy as np"
   ]
  },
  {
   "cell_type": "markdown",
   "id": "f340b7cd-8751-4ecb-aab3-c41a54151fb5",
   "metadata": {},
   "source": [
    "### Creating NumPy Arrays from Python Lists"
   ]
  },
  {
   "cell_type": "code",
   "execution_count": 16,
   "id": "9b174804-f4b0-4ef8-869e-42914a56a3ce",
   "metadata": {},
   "outputs": [
    {
     "data": {
      "text/plain": [
       "array([1, 2, 3, 4])"
      ]
     },
     "execution_count": 16,
     "metadata": {},
     "output_type": "execute_result"
    }
   ],
   "source": [
    "np.array([1, 2, 3, 4])"
   ]
  },
  {
   "cell_type": "code",
   "execution_count": 17,
   "id": "67ef43e9-9769-4800-83e1-67443118f88c",
   "metadata": {},
   "outputs": [
    {
     "data": {
      "text/plain": [
       "[3.14, 4, 2, 3]"
      ]
     },
     "execution_count": 17,
     "metadata": {},
     "output_type": "execute_result"
    }
   ],
   "source": [
    "[3.14, 4, 2, 3]"
   ]
  },
  {
   "cell_type": "code",
   "execution_count": 18,
   "id": "f30af04f-4429-4545-9642-1ca343195ed1",
   "metadata": {},
   "outputs": [
    {
     "data": {
      "text/plain": [
       "array([3.14, 4.  , 2.  , 3.  ])"
      ]
     },
     "execution_count": 18,
     "metadata": {},
     "output_type": "execute_result"
    }
   ],
   "source": [
    "np.array([3.14, 4, 2, 3])"
   ]
  },
  {
   "cell_type": "code",
   "execution_count": 19,
   "id": "fc13802f-46bb-4a0b-b079-976fd9abc1c8",
   "metadata": {},
   "outputs": [
    {
     "data": {
      "text/plain": [
       "array([1., 2., 3., 4.], dtype=float32)"
      ]
     },
     "execution_count": 19,
     "metadata": {},
     "output_type": "execute_result"
    }
   ],
   "source": [
    "np.array([1, 2, 3, 4], dtype='float32')"
   ]
  },
  {
   "cell_type": "code",
   "execution_count": 20,
   "id": "066cb8cf-6d04-42c6-a7d2-4edd673ec93f",
   "metadata": {},
   "outputs": [],
   "source": [
    "a1 = np.array([1, 2, 3, 4])"
   ]
  },
  {
   "cell_type": "code",
   "execution_count": 21,
   "id": "2660675e-89e7-480e-8cea-5730551e04ac",
   "metadata": {},
   "outputs": [
    {
     "data": {
      "text/plain": [
       "numpy.ndarray"
      ]
     },
     "execution_count": 21,
     "metadata": {},
     "output_type": "execute_result"
    }
   ],
   "source": [
    "type(a1)"
   ]
  },
  {
   "cell_type": "code",
   "execution_count": 22,
   "id": "4ab49273-e005-4d23-a88b-32ad8d62b359",
   "metadata": {},
   "outputs": [],
   "source": [
    "a2 = np.array([[1, 2, 3], \n",
    "              [4, 5, 6]])"
   ]
  },
  {
   "cell_type": "code",
   "execution_count": 23,
   "id": "5329f112-2a4a-49c2-9fd1-37baa84801f4",
   "metadata": {},
   "outputs": [
    {
     "data": {
      "text/plain": [
       "numpy.ndarray"
      ]
     },
     "execution_count": 23,
     "metadata": {},
     "output_type": "execute_result"
    }
   ],
   "source": [
    "type(a2)"
   ]
  },
  {
   "cell_type": "code",
   "execution_count": 28,
   "id": "9de573a4-a14d-4cce-81b3-1a1b298a12a4",
   "metadata": {},
   "outputs": [
    {
     "data": {
      "text/plain": [
       "(2, 3)"
      ]
     },
     "execution_count": 28,
     "metadata": {},
     "output_type": "execute_result"
    }
   ],
   "source": [
    "a2.shape"
   ]
  },
  {
   "cell_type": "code",
   "execution_count": 29,
   "id": "4b07f615-8e6d-4d19-9d17-ad8d7d3a3cf1",
   "metadata": {},
   "outputs": [
    {
     "data": {
      "text/plain": [
       "2"
      ]
     },
     "execution_count": 29,
     "metadata": {},
     "output_type": "execute_result"
    }
   ],
   "source": [
    "a2.ndim #số chiều của array (array chứa 1 array khác -> 2 chiều)"
   ]
  },
  {
   "cell_type": "code",
   "execution_count": 32,
   "id": "6ffd7961-b713-4f09-ac2d-31ec068c4e4d",
   "metadata": {},
   "outputs": [
    {
     "data": {
      "text/plain": [
       "dtype('int32')"
      ]
     },
     "execution_count": 32,
     "metadata": {},
     "output_type": "execute_result"
    }
   ],
   "source": [
    "a2.dtype"
   ]
  },
  {
   "cell_type": "code",
   "execution_count": 33,
   "id": "f8caf9e5-ba8e-4cb0-ba36-32981b51927b",
   "metadata": {},
   "outputs": [
    {
     "data": {
      "text/plain": [
       "6"
      ]
     },
     "execution_count": 33,
     "metadata": {},
     "output_type": "execute_result"
    }
   ],
   "source": [
    "a2.size"
   ]
  },
  {
   "cell_type": "markdown",
   "id": "ef85ad3b-3c28-4100-9666-669ac5396c94",
   "metadata": {},
   "source": [
    "![green-divider](https://user-images.githubusercontent.com/7065401/52071924-c003ad80-2562-11e9-8297-1c6595f8a7ff.png)"
   ]
  },
  {
   "cell_type": "markdown",
   "id": "1a708fef-89e7-4b7f-b28f-2670a495d83e",
   "metadata": {},
   "source": [
    "### Creating NumPy Arrays from Scratch\n",
    "### zeros, ones, full, arrange, linspace"
   ]
  },
  {
   "cell_type": "code",
   "execution_count": 37,
   "id": "b0f3b6ef-6db7-47c7-9087-08c45c9c73d2",
   "metadata": {},
   "outputs": [
    {
     "data": {
      "text/plain": [
       "array([[0, 0, 0, 0],\n",
       "       [0, 0, 0, 0]])"
      ]
     },
     "execution_count": 37,
     "metadata": {},
     "output_type": "execute_result"
    }
   ],
   "source": [
    "# Shift + Tab: open Function Documents\n",
    "np.zeros([2, 4], dtype = int)"
   ]
  },
  {
   "cell_type": "code",
   "execution_count": 40,
   "id": "84e30517-adbe-4640-b3ff-03a31f16870f",
   "metadata": {},
   "outputs": [
    {
     "data": {
      "text/plain": [
       "array([[1., 1., 1., 1., 1.],\n",
       "       [1., 1., 1., 1., 1.],\n",
       "       [1., 1., 1., 1., 1.]])"
      ]
     },
     "execution_count": 40,
     "metadata": {},
     "output_type": "execute_result"
    }
   ],
   "source": [
    "np.ones((3, 5), dtype = float)"
   ]
  },
  {
   "cell_type": "code",
   "execution_count": 43,
   "id": "b5d625ee-5417-4098-89c7-6c731ad23c29",
   "metadata": {},
   "outputs": [
    {
     "data": {
      "text/plain": [
       "array([ 0,  2,  4,  6,  8, 10, 12, 14, 16, 18])"
      ]
     },
     "execution_count": 43,
     "metadata": {},
     "output_type": "execute_result"
    }
   ],
   "source": [
    "# Create an array filled with a linear sequence\n",
    "# Starting at 0, endingn at 20, stepping by 2\n",
    "# (This is similar to the built-in range() function)\n",
    "np.arange(0, 20, 2)"
   ]
  },
  {
   "cell_type": "code",
   "execution_count": 44,
   "id": "f7c4edd0-5235-4064-a811-0ea5195c674a",
   "metadata": {},
   "outputs": [
    {
     "data": {
      "text/plain": [
       "array([[6.9, 6.9, 6.9, 6.9, 6.9],\n",
       "       [6.9, 6.9, 6.9, 6.9, 6.9],\n",
       "       [6.9, 6.9, 6.9, 6.9, 6.9]])"
      ]
     },
     "execution_count": 44,
     "metadata": {},
     "output_type": "execute_result"
    }
   ],
   "source": [
    "np.full((3, 5), 6.9)"
   ]
  },
  {
   "cell_type": "code",
   "execution_count": 47,
   "id": "4b65c174-fe92-425c-9fd6-0cf848902731",
   "metadata": {},
   "outputs": [
    {
     "data": {
      "text/plain": [
       "array([0.  , 0.25, 0.5 , 0.75, 1.  ])"
      ]
     },
     "execution_count": 47,
     "metadata": {},
     "output_type": "execute_result"
    }
   ],
   "source": [
    "np.linspace(0, 1, 5)"
   ]
  },
  {
   "cell_type": "markdown",
   "id": "b5ebefd3-65ae-4de0-9b1b-b5190d619d3d",
   "metadata": {},
   "source": [
    "### random"
   ]
  },
  {
   "cell_type": "code",
   "execution_count": 74,
   "id": "d4e5e671-5c7c-4b32-b793-f186f51f5f16",
   "metadata": {},
   "outputs": [
    {
     "data": {
      "text/plain": [
       "array([[0.5488135 , 0.71518937, 0.60276338, 0.54488318],\n",
       "       [0.4236548 , 0.64589411, 0.43758721, 0.891773  ],\n",
       "       [0.96366276, 0.38344152, 0.79172504, 0.52889492],\n",
       "       [0.56804456, 0.92559664, 0.07103606, 0.0871293 ]])"
      ]
     },
     "execution_count": 74,
     "metadata": {},
     "output_type": "execute_result"
    }
   ],
   "source": [
    "# Seed for reproducibility\n",
    "np.random.seed(0) # để mỗi lần random đều ra giá trị giống nhau\n",
    "\n",
    "np.random.random((4, 4))"
   ]
  },
  {
   "cell_type": "code",
   "execution_count": 97,
   "id": "e23eef13-7e8d-4ce4-acdc-2fa869f5774d",
   "metadata": {},
   "outputs": [
    {
     "data": {
      "text/plain": [
       "array([[0.05342718, 0.72559436, 0.01142746, 0.77058075],\n",
       "       [0.14694665, 0.07952208, 0.08960303, 0.67204781],\n",
       "       [0.24536721, 0.42053947, 0.55736879, 0.86055117],\n",
       "       [0.72704426, 0.27032791, 0.1314828 , 0.05537432]])"
      ]
     },
     "execution_count": 97,
     "metadata": {},
     "output_type": "execute_result"
    }
   ],
   "source": [
    "np.random.rand(4, 4)"
   ]
  },
  {
   "cell_type": "code",
   "execution_count": 85,
   "id": "501169a8-a77d-426c-b20a-d44cd66aec60",
   "metadata": {},
   "outputs": [
    {
     "data": {
      "text/plain": [
       "array([[-1.17312341,  1.94362119, -0.41361898],\n",
       "       [-0.74745481,  1.92294203,  1.48051479],\n",
       "       [ 1.86755896,  0.90604466, -0.86122569]])"
      ]
     },
     "execution_count": 85,
     "metadata": {},
     "output_type": "execute_result"
    }
   ],
   "source": [
    "np.random.normal(0, 1, (3,3))"
   ]
  },
  {
   "cell_type": "code",
   "execution_count": 96,
   "id": "96488a3e-9168-4bca-bfb5-dca1409d9748",
   "metadata": {},
   "outputs": [
    {
     "data": {
      "text/plain": [
       "array([[3, 8, 4, 1, 4],\n",
       "       [5, 0, 3, 1, 4],\n",
       "       [4, 4, 0, 0, 8],\n",
       "       [4, 6, 9, 3, 3]])"
      ]
     },
     "execution_count": 96,
     "metadata": {},
     "output_type": "execute_result"
    }
   ],
   "source": [
    "np.random.randint(0, 10, (4,5))"
   ]
  },
  {
   "cell_type": "markdown",
   "id": "1a7270e4-6f06-41f5-b086-80eafa3d3381",
   "metadata": {},
   "source": [
    "![green-divider](https://user-images.githubusercontent.com/7065401/52071924-c003ad80-2562-11e9-8297-1c6595f8a7ff.png)"
   ]
  },
  {
   "cell_type": "markdown",
   "id": "0fa41d40-f593-4cde-be7b-5154b0ac23b8",
   "metadata": {},
   "source": [
    "### Array Indexing & Slicing"
   ]
  },
  {
   "cell_type": "markdown",
   "id": "4834797e-d51f-4ed9-ad5c-f63bf5984a72",
   "metadata": {},
   "source": [
    "#### One-dimensional subarray"
   ]
  },
  {
   "cell_type": "code",
   "execution_count": 105,
   "id": "b83fbae3-860a-4e7e-9abb-daa6c1b2b759",
   "metadata": {},
   "outputs": [],
   "source": [
    "x1 = np.random.randint(20, size=6)"
   ]
  },
  {
   "cell_type": "code",
   "execution_count": 106,
   "id": "305fbf89-0469-4b1c-a84b-1f48cffaa0d3",
   "metadata": {},
   "outputs": [
    {
     "data": {
      "text/plain": [
       "(10, 0, 19)"
      ]
     },
     "execution_count": 106,
     "metadata": {},
     "output_type": "execute_result"
    }
   ],
   "source": [
    "x1[4], x1[0], x1[-1]"
   ]
  },
  {
   "cell_type": "markdown",
   "id": "b91a27dc-836e-4fc7-bc8c-24e795fc8f58",
   "metadata": {},
   "source": [
    "#### Multi-dimensional array"
   ]
  },
  {
   "cell_type": "code",
   "execution_count": 110,
   "id": "79e4fe40-b7d1-4bee-ba3d-e7e617b350cc",
   "metadata": {},
   "outputs": [],
   "source": [
    "x2 = np.random.randint(10, size=(3, 4))"
   ]
  },
  {
   "cell_type": "code",
   "execution_count": 111,
   "id": "22fba6df-3ab0-4853-aa9c-3c00199717b8",
   "metadata": {},
   "outputs": [
    {
     "data": {
      "text/plain": [
       "array([[7, 2, 3, 9],\n",
       "       [7, 6, 6, 2],\n",
       "       [3, 6, 0, 8]])"
      ]
     },
     "execution_count": 111,
     "metadata": {},
     "output_type": "execute_result"
    }
   ],
   "source": [
    "x2"
   ]
  },
  {
   "cell_type": "code",
   "execution_count": 120,
   "id": "ed8003eb-cdf2-423a-a62c-d9ef8a3caa86",
   "metadata": {},
   "outputs": [],
   "source": [
    "x2[1, 2] = 5"
   ]
  },
  {
   "cell_type": "code",
   "execution_count": 121,
   "id": "a7b6339b-31cb-47d8-a1f8-74f17f1dfac1",
   "metadata": {},
   "outputs": [
    {
     "data": {
      "text/plain": [
       "array([[7, 2, 3, 9],\n",
       "       [7, 6, 5, 2],\n",
       "       [3, 6, 0, 8]])"
      ]
     },
     "execution_count": 121,
     "metadata": {},
     "output_type": "execute_result"
    }
   ],
   "source": [
    "x2"
   ]
  },
  {
   "cell_type": "markdown",
   "id": "b56a907c-3f87-495c-b687-154d16a5933a",
   "metadata": {},
   "source": [
    "#### Slicing:\n",
    "x[start:stop:step]"
   ]
  },
  {
   "cell_type": "code",
   "execution_count": 122,
   "id": "2f6156c4-e0c6-4633-bd89-1df71b70ae85",
   "metadata": {},
   "outputs": [
    {
     "data": {
      "text/plain": [
       "array([ 0,  8, 19,  6, 10, 19])"
      ]
     },
     "execution_count": 122,
     "metadata": {},
     "output_type": "execute_result"
    }
   ],
   "source": [
    "x1"
   ]
  },
  {
   "cell_type": "code",
   "execution_count": 125,
   "id": "a8cad09c-e2e4-47bf-9226-30593ae4b2fa",
   "metadata": {},
   "outputs": [
    {
     "data": {
      "text/plain": [
       "array([ 0,  8, 19])"
      ]
     },
     "execution_count": 125,
     "metadata": {},
     "output_type": "execute_result"
    }
   ],
   "source": [
    "x1[0:3]"
   ]
  },
  {
   "cell_type": "code",
   "execution_count": 126,
   "id": "1d35ed79-16ad-457c-8180-c7728c35912d",
   "metadata": {},
   "outputs": [
    {
     "data": {
      "text/plain": [
       "array([19,  6])"
      ]
     },
     "execution_count": 126,
     "metadata": {},
     "output_type": "execute_result"
    }
   ],
   "source": [
    "x1[2:4]"
   ]
  },
  {
   "cell_type": "code",
   "execution_count": 127,
   "id": "da2d930c-4867-4921-811e-18193fa40ca4",
   "metadata": {},
   "outputs": [
    {
     "data": {
      "text/plain": [
       "array([ 0, 19, 10])"
      ]
     },
     "execution_count": 127,
     "metadata": {},
     "output_type": "execute_result"
    }
   ],
   "source": [
    "# every other element, every 2 step\n",
    "x1[::2]"
   ]
  },
  {
   "cell_type": "code",
   "execution_count": 128,
   "id": "46ca0e2c-2739-4265-89ef-a3d8a0200d0d",
   "metadata": {},
   "outputs": [
    {
     "data": {
      "text/plain": [
       "array([[7, 2, 3, 9],\n",
       "       [7, 6, 5, 2],\n",
       "       [3, 6, 0, 8]])"
      ]
     },
     "execution_count": 128,
     "metadata": {},
     "output_type": "execute_result"
    }
   ],
   "source": [
    "x2"
   ]
  },
  {
   "cell_type": "code",
   "execution_count": 130,
   "id": "b3158a60-1d83-445d-8542-136a9c4ea9f9",
   "metadata": {},
   "outputs": [
    {
     "data": {
      "text/plain": [
       "array([[7, 2, 3],\n",
       "       [7, 6, 5]])"
      ]
     },
     "execution_count": 130,
     "metadata": {},
     "output_type": "execute_result"
    }
   ],
   "source": [
    "# two rows, three columns\n",
    "x2[:2, :3]"
   ]
  },
  {
   "cell_type": "code",
   "execution_count": 131,
   "id": "519d4099-508c-415e-a2cb-a03d4c99b7ab",
   "metadata": {},
   "outputs": [
    {
     "data": {
      "text/plain": [
       "array([[7, 2, 3, 9],\n",
       "       [7, 6, 5, 2]])"
      ]
     },
     "execution_count": 131,
     "metadata": {},
     "output_type": "execute_result"
    }
   ],
   "source": [
    "x2[:2, :4]"
   ]
  },
  {
   "cell_type": "markdown",
   "id": "a703e627-2be9-4873-bc89-c92e040260c9",
   "metadata": {},
   "source": [
    "![green-divider](https://user-images.githubusercontent.com/7065401/52071924-c003ad80-2562-11e9-8297-1c6595f8a7ff.png)\n",
    "### Reshaping of Arrays & Transpose"
   ]
  },
  {
   "cell_type": "code",
   "execution_count": 135,
   "id": "b62d9621-78b0-4e5f-a886-44797338b262",
   "metadata": {},
   "outputs": [
    {
     "data": {
      "text/plain": [
       "(9,)"
      ]
     },
     "execution_count": 135,
     "metadata": {},
     "output_type": "execute_result"
    }
   ],
   "source": [
    "grid = np.arange(1, 10)\n",
    "grid.shape"
   ]
  },
  {
   "cell_type": "code",
   "execution_count": 141,
   "id": "96ca4fc2-2640-4dc1-823a-406066eee7ae",
   "metadata": {},
   "outputs": [
    {
     "data": {
      "text/plain": [
       "array([[1, 2, 3],\n",
       "       [4, 5, 6],\n",
       "       [7, 8, 9]])"
      ]
     },
     "execution_count": 141,
     "metadata": {},
     "output_type": "execute_result"
    }
   ],
   "source": [
    "grid.reshape((3, 3))"
   ]
  },
  {
   "cell_type": "code",
   "execution_count": 138,
   "id": "8faec638-a600-487b-8cfc-620a965aed35",
   "metadata": {},
   "outputs": [],
   "source": [
    "x = np.array([1, 2, 3])"
   ]
  },
  {
   "cell_type": "code",
   "execution_count": 142,
   "id": "d02f0ee4-0a05-411b-9efc-48688c63f3a1",
   "metadata": {},
   "outputs": [
    {
     "data": {
      "text/plain": [
       "(3,)"
      ]
     },
     "execution_count": 142,
     "metadata": {},
     "output_type": "execute_result"
    }
   ],
   "source": [
    "x.shape"
   ]
  },
  {
   "cell_type": "code",
   "execution_count": 146,
   "id": "21762ad1-637d-4bb2-9160-3452896d21c1",
   "metadata": {},
   "outputs": [
    {
     "data": {
      "text/plain": [
       "(1, 3)"
      ]
     },
     "execution_count": 146,
     "metadata": {},
     "output_type": "execute_result"
    }
   ],
   "source": [
    "x.reshape((1, 3)).shape"
   ]
  },
  {
   "cell_type": "code",
   "execution_count": 151,
   "id": "83fccb90-2582-4466-8b11-ddd5b3515f2b",
   "metadata": {},
   "outputs": [],
   "source": [
    "x = np.array([[1., 7.], [3., 4.]])"
   ]
  },
  {
   "cell_type": "code",
   "execution_count": 152,
   "id": "368293b5-ab43-4853-abbd-ce5c87aa76a3",
   "metadata": {},
   "outputs": [
    {
     "data": {
      "text/plain": [
       "array([[1., 7.],\n",
       "       [3., 4.]])"
      ]
     },
     "execution_count": 152,
     "metadata": {},
     "output_type": "execute_result"
    }
   ],
   "source": [
    "x"
   ]
  },
  {
   "cell_type": "code",
   "execution_count": 153,
   "id": "75441da4-ba12-449b-881e-3ed018b59a98",
   "metadata": {},
   "outputs": [
    {
     "data": {
      "text/plain": [
       "array([[1., 3.],\n",
       "       [7., 4.]])"
      ]
     },
     "execution_count": 153,
     "metadata": {},
     "output_type": "execute_result"
    }
   ],
   "source": [
    "x.T"
   ]
  },
  {
   "cell_type": "markdown",
   "id": "51d574df-fc8e-48e7-9aa9-3fc2c3188559",
   "metadata": {},
   "source": [
    "### Array Concatenation (sự ghép nối) and Splitting"
   ]
  },
  {
   "cell_type": "code",
   "execution_count": 154,
   "id": "b48ff31a-25bc-4151-a538-cebd56adfe71",
   "metadata": {},
   "outputs": [],
   "source": [
    "x = np.array([1, 2, 3])\n",
    "y = np.array([3, 2, 1])"
   ]
  },
  {
   "cell_type": "code",
   "execution_count": 155,
   "id": "5c221c25-e779-42e1-9397-9acfa7a5bfbb",
   "metadata": {},
   "outputs": [
    {
     "data": {
      "text/plain": [
       "array([1, 2, 3, 3, 2, 1])"
      ]
     },
     "execution_count": 155,
     "metadata": {},
     "output_type": "execute_result"
    }
   ],
   "source": [
    "np.concatenate((x, y))"
   ]
  },
  {
   "cell_type": "code",
   "execution_count": 158,
   "id": "bf3de8de-e626-43f0-b25f-caa65dd3c3f7",
   "metadata": {},
   "outputs": [
    {
     "data": {
      "text/plain": [
       "array([[1, 2, 3],\n",
       "       [4, 5, 6]])"
      ]
     },
     "execution_count": 158,
     "metadata": {},
     "output_type": "execute_result"
    }
   ],
   "source": [
    "grid = np.array([[1, 2, 3], [4, 5, 6]])\n",
    "grid"
   ]
  },
  {
   "cell_type": "code",
   "execution_count": 165,
   "id": "42803d2d-ea87-4fa6-b417-ebc6ec269fee",
   "metadata": {},
   "outputs": [
    {
     "data": {
      "text/plain": [
       "array([[1, 2, 3],\n",
       "       [4, 5, 6],\n",
       "       [1, 2, 3],\n",
       "       [4, 5, 6]])"
      ]
     },
     "execution_count": 165,
     "metadata": {},
     "output_type": "execute_result"
    }
   ],
   "source": [
    "np.concatenate((grid, grid)) #axis = 0 by default"
   ]
  },
  {
   "cell_type": "code",
   "execution_count": 166,
   "id": "cbe7021f-1ad5-4265-af06-9bc451e51a9f",
   "metadata": {},
   "outputs": [
    {
     "data": {
      "text/plain": [
       "array([[1, 2, 3, 1, 2, 3],\n",
       "       [4, 5, 6, 4, 5, 6]])"
      ]
     },
     "execution_count": 166,
     "metadata": {},
     "output_type": "execute_result"
    }
   ],
   "source": [
    "np.concatenate((grid, grid), axis = 1)"
   ]
  },
  {
   "cell_type": "code",
   "execution_count": 169,
   "id": "c8ad0d43-3ea4-4373-85fc-6c22a6de0568",
   "metadata": {},
   "outputs": [
    {
     "data": {
      "text/plain": [
       "array([[1, 2, 3],\n",
       "       [9, 8, 7],\n",
       "       [6, 5, 4]])"
      ]
     },
     "execution_count": 169,
     "metadata": {},
     "output_type": "execute_result"
    }
   ],
   "source": [
    "#vstack\n",
    "x = np.array([1, 2, 3])\n",
    "grid = np.array([[9, 8, 7], \n",
    "                [6, 5, 4]])\n",
    "np.vstack((x, grid))"
   ]
  },
  {
   "cell_type": "code",
   "execution_count": 170,
   "id": "20032300-e4a8-4ebd-a04c-633deab4d328",
   "metadata": {},
   "outputs": [
    {
     "data": {
      "text/plain": [
       "array([[99,  9,  8,  7],\n",
       "       [99,  6,  5,  4]])"
      ]
     },
     "execution_count": 170,
     "metadata": {},
     "output_type": "execute_result"
    }
   ],
   "source": [
    "# horizontally stack the arrays: hstack\n",
    "y = np.array([[99], [99]])\n",
    "np.hstack((y, grid))"
   ]
  },
  {
   "cell_type": "markdown",
   "id": "beb4d3e1-f083-4147-a84d-dae972a238c1",
   "metadata": {},
   "source": [
    "#### Splitting arrays"
   ]
  },
  {
   "cell_type": "code",
   "execution_count": 171,
   "id": "c8a840a2-46ca-4aed-afb3-af84b6d409e6",
   "metadata": {},
   "outputs": [],
   "source": [
    "x = np.array([1, 2, 3, 99, 69, 3, 2, 1])"
   ]
  },
  {
   "cell_type": "code",
   "execution_count": 173,
   "id": "1567c8ec-fca8-4a91-84b4-ef1212a64ee6",
   "metadata": {},
   "outputs": [],
   "source": [
    "x1, x2, x3 = np.split(x, [3, 5])"
   ]
  },
  {
   "cell_type": "code",
   "execution_count": 174,
   "id": "6b8e684a-b8aa-4113-9bc1-3693d0213f68",
   "metadata": {},
   "outputs": [
    {
     "data": {
      "text/plain": [
       "array([1, 2, 3])"
      ]
     },
     "execution_count": 174,
     "metadata": {},
     "output_type": "execute_result"
    }
   ],
   "source": [
    "x1"
   ]
  },
  {
   "cell_type": "code",
   "execution_count": 177,
   "id": "2af1a145-80d1-41e3-a086-e7a988420321",
   "metadata": {},
   "outputs": [
    {
     "data": {
      "text/plain": [
       "array([99, 69])"
      ]
     },
     "execution_count": 177,
     "metadata": {},
     "output_type": "execute_result"
    }
   ],
   "source": [
    "x2"
   ]
  },
  {
   "cell_type": "code",
   "execution_count": 178,
   "id": "a335837b-762c-4ac3-9e04-640b7fcdddb9",
   "metadata": {},
   "outputs": [
    {
     "data": {
      "text/plain": [
       "array([3, 2, 1])"
      ]
     },
     "execution_count": 178,
     "metadata": {},
     "output_type": "execute_result"
    }
   ],
   "source": [
    "x3"
   ]
  },
  {
   "cell_type": "markdown",
   "id": "b3585b75-8707-4b44-8034-2673588fb96c",
   "metadata": {},
   "source": [
    "![green-divider](https://user-images.githubusercontent.com/7065401/52071924-c003ad80-2562-11e9-8297-1c6595f8a7ff.png)\n",
    "\n",
    "## Broadcasting and Vectorized operations\n",
    "\n",
    "Broadcasting is simply a set of rules for applying binary ufuncs (e.g., addition, subtraction, multiplication, etc.) on arrays of different sizes.\n",
    "\n",
    "![image-broadcasting](https://jakevdp.github.io/PythonDataScienceHandbook/figures/02.05-broadcasting.png)"
   ]
  },
  {
   "cell_type": "code",
   "execution_count": 181,
   "id": "93bd0030-87d6-4c00-a234-ed70984916f3",
   "metadata": {},
   "outputs": [],
   "source": [
    "a = np.arange(3)"
   ]
  },
  {
   "cell_type": "code",
   "execution_count": 182,
   "id": "9ae78e61-6230-4db1-832f-5a1cc2c61d8e",
   "metadata": {},
   "outputs": [
    {
     "data": {
      "text/plain": [
       "array([0, 1, 2])"
      ]
     },
     "execution_count": 182,
     "metadata": {},
     "output_type": "execute_result"
    }
   ],
   "source": [
    "a"
   ]
  },
  {
   "cell_type": "code",
   "execution_count": 183,
   "id": "cfd86bca-7daa-4653-ae51-429311958a3e",
   "metadata": {},
   "outputs": [
    {
     "data": {
      "text/plain": [
       "array([5, 6, 7])"
      ]
     },
     "execution_count": 183,
     "metadata": {},
     "output_type": "execute_result"
    }
   ],
   "source": [
    "a + 5 #Broadcasting"
   ]
  },
  {
   "cell_type": "code",
   "execution_count": 185,
   "id": "7be66669-552b-4347-8b89-b41c05bde7c1",
   "metadata": {},
   "outputs": [],
   "source": [
    "b = np.ones((3, 3))"
   ]
  },
  {
   "cell_type": "code",
   "execution_count": 186,
   "id": "60e0669b-2589-4413-bdbf-e1b26235e42e",
   "metadata": {},
   "outputs": [
    {
     "data": {
      "text/plain": [
       "array([[1., 1., 1.],\n",
       "       [1., 1., 1.],\n",
       "       [1., 1., 1.]])"
      ]
     },
     "execution_count": 186,
     "metadata": {},
     "output_type": "execute_result"
    }
   ],
   "source": [
    "b"
   ]
  },
  {
   "cell_type": "code",
   "execution_count": 187,
   "id": "3ce78e47-ea63-48b7-98f3-8059c8387789",
   "metadata": {},
   "outputs": [
    {
     "data": {
      "text/plain": [
       "((3,), (3, 3))"
      ]
     },
     "execution_count": 187,
     "metadata": {},
     "output_type": "execute_result"
    }
   ],
   "source": [
    "a.shape, b.shape"
   ]
  },
  {
   "cell_type": "code",
   "execution_count": 188,
   "id": "193ac4f9-d249-49c2-aa7e-04a2437dfadb",
   "metadata": {},
   "outputs": [
    {
     "data": {
      "text/plain": [
       "array([[1., 2., 3.],\n",
       "       [1., 2., 3.],\n",
       "       [1., 2., 3.]])"
      ]
     },
     "execution_count": 188,
     "metadata": {},
     "output_type": "execute_result"
    }
   ],
   "source": [
    "a + b"
   ]
  },
  {
   "cell_type": "code",
   "execution_count": 189,
   "id": "70888b9a-653c-421f-ab78-6e8f273c6ade",
   "metadata": {},
   "outputs": [
    {
     "data": {
      "text/plain": [
       "array([[0., 1., 2.],\n",
       "       [0., 1., 2.],\n",
       "       [0., 1., 2.]])"
      ]
     },
     "execution_count": 189,
     "metadata": {},
     "output_type": "execute_result"
    }
   ],
   "source": [
    "a * b"
   ]
  },
  {
   "cell_type": "code",
   "execution_count": 191,
   "id": "0b73f8f0-c0b3-4e2b-841f-dcd9a3c1c771",
   "metadata": {},
   "outputs": [],
   "source": [
    "c = np.arange(3).reshape((3, 1))"
   ]
  },
  {
   "cell_type": "code",
   "execution_count": 192,
   "id": "52b3f024-4728-4d9f-a246-5c9578aa45e8",
   "metadata": {},
   "outputs": [
    {
     "data": {
      "text/plain": [
       "array([[0],\n",
       "       [1],\n",
       "       [2]])"
      ]
     },
     "execution_count": 192,
     "metadata": {},
     "output_type": "execute_result"
    }
   ],
   "source": [
    "c"
   ]
  },
  {
   "cell_type": "code",
   "execution_count": 193,
   "id": "9f3d36a8-102a-4ba8-a2d5-64f2766de962",
   "metadata": {},
   "outputs": [
    {
     "data": {
      "text/plain": [
       "array([[0, 1, 2],\n",
       "       [1, 2, 3],\n",
       "       [2, 3, 4]])"
      ]
     },
     "execution_count": 193,
     "metadata": {},
     "output_type": "execute_result"
    }
   ],
   "source": [
    "a + c"
   ]
  },
  {
   "cell_type": "markdown",
   "id": "09d8d837-5181-4244-b5c2-70bfa18ff142",
   "metadata": {},
   "source": [
    "![green-divider](https://user-images.githubusercontent.com/7065401/52071924-c003ad80-2562-11e9-8297-1c6595f8a7ff.png)\n",
    "\n",
    "## Manipulating & Comparing Arrays"
   ]
  },
  {
   "cell_type": "code",
   "execution_count": 196,
   "id": "b0863fe2-3516-4856-a0e1-d6b6ece7a845",
   "metadata": {},
   "outputs": [],
   "source": [
    "list_number = [1, 2, 3]\n",
    "ll = np.array(list_number)"
   ]
  },
  {
   "cell_type": "code",
   "execution_count": 199,
   "id": "f92be239-4f6b-4c58-b1a7-c5b182d787fe",
   "metadata": {},
   "outputs": [
    {
     "data": {
      "text/plain": [
       "array([1, 2, 3])"
      ]
     },
     "execution_count": 199,
     "metadata": {},
     "output_type": "execute_result"
    }
   ],
   "source": [
    "ll"
   ]
  },
  {
   "cell_type": "code",
   "execution_count": 200,
   "id": "80db4550-f399-4f35-8c81-105a3a560950",
   "metadata": {},
   "outputs": [
    {
     "data": {
      "text/plain": [
       "6"
      ]
     },
     "execution_count": 200,
     "metadata": {},
     "output_type": "execute_result"
    }
   ],
   "source": [
    "sum(ll) # Python sum()"
   ]
  },
  {
   "cell_type": "code",
   "execution_count": 202,
   "id": "29d91aab-a991-4744-80f6-5c6b3910d1d3",
   "metadata": {},
   "outputs": [
    {
     "data": {
      "text/plain": [
       "6"
      ]
     },
     "execution_count": 202,
     "metadata": {},
     "output_type": "execute_result"
    }
   ],
   "source": [
    "np.sum(ll) # NumPy sum() (faster)"
   ]
  },
  {
   "cell_type": "code",
   "execution_count": 214,
   "id": "4a2a00ac-78a6-42ed-984f-1796edb04174",
   "metadata": {},
   "outputs": [
    {
     "data": {
      "text/plain": [
       "(10000,)"
      ]
     },
     "execution_count": 214,
     "metadata": {},
     "output_type": "execute_result"
    }
   ],
   "source": [
    "# Create a massive (to lớn) NumPy array\n",
    "massive_array = np.random.random(10000)\n",
    "massive_array[:5]\n",
    "massive_array.shape"
   ]
  },
  {
   "cell_type": "code",
   "execution_count": 215,
   "id": "f50607bc-985c-4c50-b044-56ad61de8cb3",
   "metadata": {},
   "outputs": [
    {
     "name": "stdout",
     "output_type": "stream",
     "text": [
      "479 μs ± 7.1 μs per loop (mean ± std. dev. of 7 runs, 1,000 loops each)\n",
      "4.24 μs ± 92.8 ns per loop (mean ± std. dev. of 7 runs, 100,000 loops each)\n"
     ]
    }
   ],
   "source": [
    "%timeit sum(massive_array) # Python bulit-in function sum()\n",
    "%timeit np.sum(massive_array) #  NumPy's np.sum()"
   ]
  },
  {
   "cell_type": "code",
   "execution_count": 216,
   "id": "247480c0-a1b9-49a3-82d8-32ee56a295f5",
   "metadata": {},
   "outputs": [
    {
     "data": {
      "text/plain": [
       "0.4978836855148755"
      ]
     },
     "execution_count": 216,
     "metadata": {},
     "output_type": "execute_result"
    }
   ],
   "source": [
    "np.mean(massive_array)\n"
   ]
  },
  {
   "cell_type": "code",
   "execution_count": 217,
   "id": "33de55f9-049c-4be7-aa88-e50f0d6fe53a",
   "metadata": {},
   "outputs": [
    {
     "data": {
      "text/plain": [
       "0.9999484968692297"
      ]
     },
     "execution_count": 217,
     "metadata": {},
     "output_type": "execute_result"
    }
   ],
   "source": [
    "np.max(massive_array)"
   ]
  },
  {
   "cell_type": "code",
   "execution_count": 218,
   "id": "865ae94d-ba28-4a88-a083-05ffcdc62155",
   "metadata": {},
   "outputs": [
    {
     "data": {
      "text/plain": [
       "0.00019681476404465048"
      ]
     },
     "execution_count": 218,
     "metadata": {},
     "output_type": "execute_result"
    }
   ],
   "source": [
    "np.min(massive_array)"
   ]
  },
  {
   "cell_type": "markdown",
   "id": "7662ef60-2618-4a91-8d91-de34d41dea22",
   "metadata": {},
   "source": [
    " ### Standard Deviation (độ lệch chuẩn) &  Variance (Phương sai)\n",
    " Link: https://www.mathsisfun.com/data/standard-deviation.html"
   ]
  },
  {
   "cell_type": "code",
   "execution_count": 220,
   "id": "b4e08fdd-84ac-4420-bcce-40241277b0a9",
   "metadata": {},
   "outputs": [
    {
     "data": {
      "text/plain": [
       "147.32277488562318"
      ]
     },
     "execution_count": 220,
     "metadata": {},
     "output_type": "execute_result"
    }
   ],
   "source": [
    "dog_height = [600, 470, 170, 430, 300]\n",
    "dog_height = np.array(dog_height)\n",
    "\n",
    "np.std(dog_height)"
   ]
  },
  {
   "cell_type": "code",
   "execution_count": 221,
   "id": "df62107b-e92a-4c5c-b038-e8773e453950",
   "metadata": {},
   "outputs": [
    {
     "data": {
      "text/plain": [
       "21704.0"
      ]
     },
     "execution_count": 221,
     "metadata": {},
     "output_type": "execute_result"
    }
   ],
   "source": [
    "np.var(dog_height)"
   ]
  },
  {
   "cell_type": "code",
   "execution_count": 223,
   "id": "0a115dd0-42fd-4d06-a473-b5e7ce5e58a4",
   "metadata": {},
   "outputs": [
    {
     "data": {
      "text/plain": [
       "147.32277488562318"
      ]
     },
     "execution_count": 223,
     "metadata": {},
     "output_type": "execute_result"
    }
   ],
   "source": [
    "np.sqrt(np.var(dog_height))"
   ]
  },
  {
   "cell_type": "markdown",
   "id": "71bdc420-925c-477e-aa87-a580c0edf23a",
   "metadata": {},
   "source": [
    "![green-divider](https://user-images.githubusercontent.com/7065401/52071924-c003ad80-2562-11e9-8297-1c6595f8a7ff.png)\n",
    "\n",
    "## Sorting Arrays\n",
    "np.sorts uses an quicksort algorithm"
   ]
  },
  {
   "cell_type": "code",
   "execution_count": null,
   "id": "e895d8c8-49c6-4649-9aaa-83c6b977133c",
   "metadata": {},
   "outputs": [],
   "source": []
  }
 ],
 "metadata": {
  "kernelspec": {
   "display_name": "Python 3 (ipykernel)",
   "language": "python",
   "name": "python3"
  },
  "language_info": {
   "codemirror_mode": {
    "name": "ipython",
    "version": 3
   },
   "file_extension": ".py",
   "mimetype": "text/x-python",
   "name": "python",
   "nbconvert_exporter": "python",
   "pygments_lexer": "ipython3",
   "version": "3.12.7"
  }
 },
 "nbformat": 4,
 "nbformat_minor": 5
}
